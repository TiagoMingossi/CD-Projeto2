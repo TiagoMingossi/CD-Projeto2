{
 "cells": [
  {
   "cell_type": "markdown",
   "metadata": {},
   "source": [
    "# Projeto 2 - Classificador Automático de Sentimento\n",
    "\n",
    "Você foi contratado por uma empresa parar analisar como os clientes estão reagindo a um determinado produto no Twitter. A empresa deseja que você crie um programa que irá analisar as mensagens disponíveis e classificará como \"relevante\" ou \"irrelevante\". Com isso ela deseja que mensagens negativas, que denigrem o nome do produto, ou que mereçam destaque, disparem um foco de atenção da área de marketing.<br /><br />\n",
    "Como aluno de Ciência dos Dados, você lembrou do Teorema de Bayes, mais especificamente do Classificador Naive-Bayes, que é largamente utilizado em filtros anti-spam de e-mails. O classificador permite calcular qual a probabilidade de uma mensagem ser relevante dadas as palavras em seu conteúdo.<br /><br />\n",
    "Para realizar o MVP (*minimum viable product*) do projeto, você precisa implementar uma versão do classificador que \"aprende\" o que é relevante com uma base de treinamento e compara a performance dos resultados com uma base de testes.<br /><br />\n",
    "Após validado, o seu protótipo poderá também capturar e classificar automaticamente as mensagens da plataforma.\n",
    "\n",
    "## Informações do Projeto\n",
    "\n",
    "Prazo: 13/Set até às 23:59.<br />\n",
    "Grupo: 1 ou 2 pessoas.<br /><br />\n",
    "Entregáveis via GitHub: \n",
    "* Arquivo notebook com o código do classificador, seguindo as orientações abaixo.\n",
    "* Arquivo Excel com as bases de treinamento e teste totalmente classificado.\n",
    "\n",
    "**NÃO disponibilizar o arquivo com os *access keys/tokens* do Twitter.**\n",
    "\n",
    "\n",
    "### Check 3: \n",
    "\n",
    "Até o dia 06 de Setembro às 23:59, o notebook e o xlsx devem estar no Github com as seguintes evidências: \n",
    "    * Conta no twitter criada.\n",
    "    * Produto escolhido.\n",
    "    * Arquivo Excel contendo a base de treinamento e teste já classificado.\n",
    "    \n",
    "\n",
    "Sugestão de leitura:<br />\n",
    "http://docs.tweepy.org/en/v3.5.0/index.html<br />\n",
    "https://monkeylearn.com/blog/practical-explanation-naive-bayes-classifier/"
   ]
  },
  {
   "cell_type": "markdown",
   "metadata": {},
   "source": [
    "___\n",
    "\n",
    "## Preparando o ambiente\n",
    "\n",
    "Instalando a biblioteca *tweepy* para realizar a conexão com o Twitter:"
   ]
  },
  {
   "cell_type": "code",
   "execution_count": 33,
   "metadata": {
    "collapsed": true
   },
   "outputs": [],
   "source": [
    "%%capture\n",
    "\n",
    "#Instalando o tweepy\n",
    "!pip install tweepy"
   ]
  },
  {
   "cell_type": "markdown",
   "metadata": {},
   "source": [
    "Importando as Bibliotecas que serão utilizadas. Esteja livre para adicionar outras."
   ]
  },
  {
   "cell_type": "code",
   "execution_count": 34,
   "metadata": {
    "collapsed": true
   },
   "outputs": [],
   "source": [
    "import tweepy\n",
    "import math\n",
    "import os.path\n",
    "import pandas as pd\n",
    "import json\n",
    "from random import shuffle"
   ]
  },
  {
   "cell_type": "markdown",
   "metadata": {},
   "source": [
    "___\n",
    "## Autenticando no  Twitter\n",
    "\n",
    "Para realizar a captura dos dados é necessário ter uma conta cadastrada no twitter:\n",
    "\n",
    "* Conta: @pedrominiranda\n",
    "\n",
    "\n",
    "1. Caso ainda não tenha uma: https://twitter.com/signup\n",
    "1. Depois é necessário registrar um app para usar a biblioteca: https://apps.twitter.com/\n",
    "1. Dentro do registro do App, na aba Keys and Access Tokens, anotar os seguintes campos:\n",
    "    1. Consumer Key (API Key)\n",
    "    1. Consumer Secret (API Secret)\n",
    "1. Mais abaixo, gere um Token e anote também:\n",
    "    1. Access Token\n",
    "    1. Access Token Secret\n",
    "    \n",
    "1. Preencha os valores no arquivo \"auth.pass\"\n",
    "\n",
    "**ATENÇÃO**: Nunca divulgue os dados desse arquivo online (GitHub, etc). Ele contém as chaves necessárias para realizar as operações no twitter de forma automática e portanto é equivalente a ser \"hackeado\". De posse desses dados, pessoas mal intencionadas podem fazer todas as operações manuais (tweetar, seguir, bloquear/desbloquear, listar os seguidores, etc). Para efeito do projeto, esse arquivo não precisa ser entregue!!!"
   ]
  },
  {
   "cell_type": "code",
   "execution_count": 35,
   "metadata": {
    "collapsed": true
   },
   "outputs": [],
   "source": [
    "#Dados de autenticação do twitter:\n",
    "\n",
    "#Coloque aqui o identificador da conta no twitter: @fulano\n",
    "\n",
    "#leitura do arquivo no formato JSON\n",
    "with open('auth.pass') as fp:    \n",
    "    data = json.load(fp)\n",
    "\n",
    "#Configurando a biblioteca. Não modificar\n",
    "auth = tweepy.OAuthHandler(data['consumer_key'], data['consumer_secret'])\n",
    "auth.set_access_token(data['access_token'], data['access_token_secret'])"
   ]
  },
  {
   "cell_type": "markdown",
   "metadata": {},
   "source": [
    "___\n",
    "## Coletando Dados\n",
    "\n",
    "Agora vamos coletar os dados. Tenha em mente que dependendo do produto escolhido, não haverá uma quantidade significativa de mensagens, ou ainda poder haver muitos retweets.<br /><br /> \n",
    "Configurando:"
   ]
  },
  {
   "cell_type": "code",
   "execution_count": 36,
   "metadata": {
    "collapsed": true
   },
   "outputs": [],
   "source": [
    "#Produto escolhido:\n",
    "produto = 'MacBook'\n",
    "\n",
    "#Quantidade mínima de mensagens capturadas:\n",
    "n = 500\n",
    "#Quantidade mínima de mensagens para a base de treinamento:\n",
    "t = 300\n",
    "\n",
    "#Filtro de língua, escolha uma na tabela ISO 639-1.\n",
    "lang = 'pt'"
   ]
  },
  {
   "cell_type": "markdown",
   "metadata": {},
   "source": [
    "Capturando os dados do twitter:"
   ]
  },
  {
   "cell_type": "code",
   "execution_count": 37,
   "metadata": {},
   "outputs": [],
   "source": [
    "#Cria um objeto para a captura\n",
    "api = tweepy.API(auth)\n",
    "\n",
    "#Inicia a captura, para mais detalhes: ver a documentação do tweepy\n",
    "i = 1\n",
    "msgs = []\n",
    "for msg in tweepy.Cursor(api.search, q=produto, lang=lang).items():    \n",
    "    msgs.append(msg.text.lower())\n",
    "    i += 1\n",
    "    if i > n:\n",
    "        break\n",
    "\n",
    "#Embaralhando as mensagens para reduzir um possível viés\n",
    "shuffle(msgs)"
   ]
  },
  {
   "cell_type": "markdown",
   "metadata": {},
   "source": [
    "Salvando os dados em uma planilha Excel:"
   ]
  },
  {
   "cell_type": "code",
   "execution_count": 38,
   "metadata": {
    "collapsed": true
   },
   "outputs": [],
   "source": [
    "#Verifica se o arquivo não existe para não substituir um conjunto pronto\n",
    "if not os.path.isfile('./{0}.xlsx'.format(produto)):\n",
    "    \n",
    "    #Abre o arquivo para escrita\n",
    "    writer = pd.ExcelWriter('{0}.xlsx'.format(produto))\n",
    "\n",
    "    #divide o conjunto de mensagens em duas planilhas\n",
    "    dft = pd.DataFrame({'Treinamento' : pd.Series(msgs[:t])})\n",
    "    dft.to_excel(excel_writer = writer, sheet_name = 'Treinamento', index = False)\n",
    "\n",
    "    dfc = pd.DataFrame({'Teste' : pd.Series(msgs[t:])})\n",
    "    dfc.to_excel(excel_writer = writer, sheet_name = 'Teste', index = False)\n",
    "\n",
    "    #fecha o arquivo\n",
    "    writer.save()"
   ]
  },
  {
   "cell_type": "markdown",
   "metadata": {},
   "source": [
    "___\n",
    "## Classificando as Mensagens\n",
    "\n",
    "Agora você deve abrir o arquivo Excel com as mensagens capturadas e classificar na Coluna B se a mensagem é relevante ou não.<br /> \n",
    "Não se esqueça de colocar um nome para a coluna na célula **B1**.<br /><br />\n",
    "Fazer o mesmo na planilha de Controle.\n",
    "\n",
    "___\n",
    "## Montando o Classificador Naive-Bayes\n",
    "\n",
    "Com a base de treinamento montada, comece a desenvolver o classificador. Escreva o seu código abaixo:\n",
    "\n",
    "Opcionalmente: \n",
    "* Limpar as mensagens removendo os caracteres: enter, :, \", ', (, ), etc. Não remover emojis.<br />\n",
    "* Corrigir separação de espaços entre palavras e/ou emojis.\n",
    "* Propor outras limpezas/transformações que não afetem a qualidade da informação.\n",
    "\n"
   ]
  },
  {
   "cell_type": "code",
   "execution_count": 39,
   "metadata": {},
   "outputs": [],
   "source": [
    "#Removendo caracteres indesejados:\n",
    "clean = ['1','2','3','4','5','6','7','8','9','0',' de ',' dos ', ' para ', ' pra ',' que ', ',', '\"','@','?','rt','$', '(', ')','&','[',']', '#','*','%','+','-','_','=','/','\\\\','\\n','  ']\n",
    "\n",
    "#Arquivo que esta lendo o Database do produto:\n",
    "company = pd.read_excel('Macbook.xlsx',sep=',')\n",
    "\n",
    "#Limpando o Database:\n",
    "for carac in clean: company['Treinamento'] = company['Treinamento'].str.replace(carac, ' ')\n",
    "    "
   ]
  },
  {
   "cell_type": "markdown",
   "metadata": {},
   "source": [
    "___\n",
    "## Verificando a performance\n",
    "\n",
    "Agora você deve testar o seu Classificador com a base de Testes.<br /><br /> \n",
    "\n",
    "Você deve extrair as seguintes medidas:\n",
    "* Porcentagem de positivos falsos (marcados como relevante mas não são relevantes)\n",
    "* Porcentagem de positivos verdadeiros (marcado como relevante e são relevantes)\n",
    "* Porcentagem de negativos verdadeiros (marcado como não relevante e não são relevantes)\n",
    "* Porcentagem de negativos falsos (marcado como não relevante e são relevantes)\n",
    "\n",
    "Opcionalmente:\n",
    "* Criar categorias intermediárias de relevância baseado na diferença de probabilidades. Exemplo: muito relevante, relevante, neutro, irrelevante e muito irrelevante."
   ]
  },
  {
   "cell_type": "code",
   "execution_count": 40,
   "metadata": {
    "scrolled": true
   },
   "outputs": [
    {
     "name": "stdout",
     "output_type": "stream",
     "text": [
      "Positivo Verdadeiros [%]:\n",
      "27.500000000000004\n",
      "Postivos Falsos [%]:\n",
      "7.000000000000001\n",
      "Negativos Verdadeiros [%]:\n",
      "34.0\n",
      "Negativos Falsos [%]:\n",
      "31.5\n"
     ]
    }
   ],
   "source": [
    "a = (company['Relevância'].value_counts(sort=False, normalize=True)*100).round(decimals=1)  \n",
    "\n",
    "\n",
    "probabilidade_relevante = a['sim'] \n",
    "probabilidade_nao_relevante = a['não'] \n",
    "\n",
    "\n",
    "frequencia = company.Treinamento.apply(lambda x: pd.value_counts(x.split(\" \"))).sum(axis = 0) \n",
    "frequencia_relevante = company.Treinamento[company.Relevância == 'sim'].apply(lambda x: pd.value_counts(x.split(\" \"))).sum(axis = 0)\n",
    "frequencia_nao_relevante = company.Treinamento[company.Relevância == 'não'].apply(lambda x: pd.value_counts(x.split(\" \"))).sum(axis = 0) \n",
    "\n",
    "\n",
    "numero = len(frequencia)\n",
    "numero_relevante = frequencia_relevante[0]  \n",
    "numero_nao_relevante = frequencia_nao_relevante[0]  \n",
    "\n",
    "\n",
    "numero_relevante = numero_relevante.item()\n",
    "numero_nao_relevante = numero_nao_relevante.item()\n",
    "\n",
    "\n",
    "numero_relevante = int(numero_relevante)\n",
    "numero_nao_relevante = int(numero_nao_relevante)\n",
    "\n",
    "\n",
    "freq_relevante = pd.DataFrame(frequencia_relevante)\n",
    "freq_nao_relevante = pd.DataFrame(frequencia_nao_relevante)\n",
    "\n",
    "\n",
    "lista_relevante = []  \n",
    "lista_nao_relevante = []\n",
    "\n",
    "\n",
    "for i in range(len(freq_relevante)):\n",
    "    x = (((freq_relevante.iat[i,0])+1)/(numero_relevante+numero))*probabilidade_relevante\n",
    "    lista_relevante.append(x)\n",
    "    \n",
    "for i in range(len(freq_nao_relevante)):\n",
    "    y = (((freq_nao_relevante.iat[i,0])+1)/(numero_nao_relevante+numero))*probabilidade_nao_relevante\n",
    "    lista_nao_relevante.append(y)\n",
    "\n",
    "    \n",
    "lista_palavras_relevantes = freq_relevante.index.tolist() \n",
    "lista_palavras_nao_relevantes = freq_nao_relevante.index.tolist()\n",
    "\n",
    "\n",
    "dic_relevante = {}\n",
    "dic_nao_relevante = {}\n",
    "\n",
    "for i in range(len(freq_relevante)):\n",
    "    dic_relevante[lista_palavras_relevantes[i]] = lista_relevante[i]\n",
    "    \n",
    "for i in range(len(freq_nao_relevante)):\n",
    "    dic_nao_relevante[lista_palavras_nao_relevantes[i]] = lista_nao_relevante[i]\n",
    "\n",
    "\n",
    "teste = pd.read_excel('Macbook.xlsx',sep=',', sheetname=\"Teste\")\n",
    "\n",
    "w = 0\n",
    "\n",
    "for index, row in testando.iterrows():\n",
    "    x = 1\n",
    "    y = 1\n",
    "\n",
    "    tweet = row['Teste']\n",
    "    lista_tweet = tweet.split() \n",
    "    \n",
    "    for i in lista_tweet:\n",
    "        if i in dic_relevante:\n",
    "            x = x * (dic_relevante[i])\n",
    "            \n",
    "        if i in dic_nao_relevante:\n",
    "            y = y * (dic_nao_relevante[i])\n",
    "            \n",
    "    if x>y:\n",
    "        testando.set_value(index, 'Relevância', 'sim')\n",
    "        w = w + 1        \n",
    "        \n",
    "    else:\n",
    "        testando.set_value(index, 'Relevância', 'não')\n",
    "\n",
    "#Positivo Verdadeiro:\n",
    "pv=0\n",
    "#Postivo Falso:\n",
    "pf=0\n",
    "#Negativo Verdadeiro:\n",
    "nv=0\n",
    "#Negativo Falso:\n",
    "nf=0\n",
    "        \n",
    "for w in range(0,len(testando)):\n",
    "    if testando['Relevância'][w]=='sim' and teste['Relevância'][w]=='não':\n",
    "        pv=pv+1\n",
    "    if testando['Relevância'][w]=='sim' and teste['Relevância'][w]=='sim':\n",
    "        pf=pf+1\n",
    "    if testando['Relevância'][w]=='não' and teste['Relevância'][w]=='sim':\n",
    "        nv=nv+1\n",
    "    if testando['Relevância'][w]=='não' and teste['Relevância'][w]=='não':\n",
    "        nf=nf+1\n",
    "        \n",
    "        \n",
    "\n",
    "pv=(pv/200)*100\n",
    "pf=(pf/200)*100\n",
    "nv=(nv/200)*100\n",
    "nf=(nf/200)*100\n",
    "\n",
    "\n",
    "print(\"Positivo Verdadeiros [%]:\")\n",
    "print(pv)\n",
    "print(\"Postivos Falsos [%]:\")\n",
    "print(pf)\n",
    "print(\"Negativos Verdadeiros [%]:\")\n",
    "print(nv)\n",
    "print(\"Negativos Falsos [%]:\")\n",
    "print(nf)"
   ]
  },
  {
   "cell_type": "markdown",
   "metadata": {
    "collapsed": true
   },
   "source": [
    "___\n",
    "## Concluindo\n",
    "\n",
    "Escreva aqui a sua conclusão.<br /> \n",
    "Faça um comparativo qualitativo sobre as medidas obtidas.<br />\n",
    "Explique como são tratadas as mensagens com dupla negação e sarcasmo.<br />\n",
    "Proponha um plano de expansão. Por que eles devem continuar financiando o seu projeto?<br />\n",
    "\n",
    "Opcionalmente: \n",
    "* Discorrer por que não posso alimentar minha base de Treinamento automaticamente usando o próprio classificador, aplicado a novos tweets.\n",
    "* Propor diferentes cenários de uso para o classificador Naive-Bayes. Cenários sem intersecção com este projeto.\n",
    "* Sugerir e explicar melhorias reais no classificador com indicações concretas de como implementar (não é preciso codificar, mas indicar como fazer e material de pesquisa sobre o assunto).\n"
   ]
  },
  {
   "cell_type": "markdown",
   "metadata": {
    "collapsed": true
   },
   "source": [
    "    O projeto acima elaborado utiliza do machine learning para fazer a classifiação automática de sentimento das pessoas em uma rede social (no caso, o Tweeter) quanto a um produto (o Macbook, laptop da Apple). Para isso seguimos o teorema estatistico de Naives-Bayes que analisa a probabilidade de uma palavra estar em frases relevantes e irrelevantes dentro de um banco de dados.\n",
    "    Ao analisarmos os números obtidos podemos concluir que o programa teve precisão consideravelmente boa para julgar quais frases eram verdadeiras. Isso uma vez que 79% de tais  bateram como verdadeiras na base de dados incial feita a mão, uma por uma. Contudo o código não teve muita precisão quando determinava que uma frase era irrelevante, apenas 51% de tais coincidiram com as ditas não relevantes na base de dados iniciais.\n",
    "    Se tratando da análise de frases vindas de uma rede social caracterizada por sua informalidade acaba sendo muito frequente a presença de frases irônicas, sarcásticas e de dupla negação. A simplicidade do programa elaborado a cima não lhe permite perceber tais ocorrências assim, levando a uma grande margem de imprecisão nesses casos específicos.\n",
    "    Por fim, pode se enxergar que o projeto tem um grande potencial para desenvolvimento. Ainda mais em um campo onde a precisão dos resultados é tão valiosa como na análise de dados, passos futuros para ttais melhoras já estão traçados. Estes seriam por exemplo a exclusão de frases repetidas, um melhor plano para trabalhar com frases que contém ironia ou sarcasmo e até a procura para reações em termos mais formais uma vez que esses costumam ser mais previsíveis nas questões analisadas."
   ]
  }
 ],
 "metadata": {
  "kernelspec": {
   "display_name": "Python 3",
   "language": "python",
   "name": "python3"
  },
  "language_info": {
   "codemirror_mode": {
    "name": "ipython",
    "version": 3
   },
   "file_extension": ".py",
   "mimetype": "text/x-python",
   "name": "python",
   "nbconvert_exporter": "python",
   "pygments_lexer": "ipython3",
   "version": "3.6.1"
  }
 },
 "nbformat": 4,
 "nbformat_minor": 1
}
