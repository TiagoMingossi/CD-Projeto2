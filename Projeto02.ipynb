{
 "cells": [
  {
   "cell_type": "markdown",
   "metadata": {},
   "source": [
    "# Projeto 2 - Classificador Automático de Sentimento\n",
    "\n",
    "Você foi contratado por uma empresa parar analisar como os clientes estão reagindo a um determinado produto no Twitter. A empresa deseja que você crie um programa que irá analisar as mensagens disponíveis e classificará como \"relevante\" ou \"irrelevante\". Com isso ela deseja que mensagens negativas, que denigrem o nome do produto, ou que mereçam destaque, disparem um foco de atenção da área de marketing.<br /><br />\n",
    "Como aluno de Ciência dos Dados, você lembrou do Teorema de Bayes, mais especificamente do Classificador Naive-Bayes, que é largamente utilizado em filtros anti-spam de e-mails. O classificador permite calcular qual a probabilidade de uma mensagem ser relevante dadas as palavras em seu conteúdo.<br /><br />\n",
    "Para realizar o MVP (*minimum viable product*) do projeto, você precisa implementar uma versão do classificador que \"aprende\" o que é relevante com uma base de treinamento e compara a performance dos resultados com uma base de testes.<br /><br />\n",
    "Após validado, o seu protótipo poderá também capturar e classificar automaticamente as mensagens da plataforma.\n",
    "\n",
    "## Informações do Projeto\n",
    "\n",
    "Prazo: 13/Set até às 23:59.<br />\n",
    "Grupo: 1 ou 2 pessoas.<br /><br />\n",
    "Entregáveis via GitHub: \n",
    "* Arquivo notebook com o código do classificador, seguindo as orientações abaixo.\n",
    "* Arquivo Excel com as bases de treinamento e teste totalmente classificado.\n",
    "\n",
    "**NÃO disponibilizar o arquivo com os *access keys/tokens* do Twitter.**\n",
    "\n",
    "\n",
    "### Check 3: \n",
    "\n",
    "Até o dia 06 de Setembro às 23:59, o notebook e o xlsx devem estar no Github com as seguintes evidências: \n",
    "    * Conta no twitter criada.\n",
    "    * Produto escolhido.\n",
    "    * Arquivo Excel contendo a base de treinamento e teste já classificado.\n",
    "    \n",
    "\n",
    "Sugestão de leitura:<br />\n",
    "http://docs.tweepy.org/en/v3.5.0/index.html<br />\n",
    "https://monkeylearn.com/blog/practical-explanation-naive-bayes-classifier/"
   ]
  },
  {
   "cell_type": "markdown",
   "metadata": {},
   "source": [
    "___\n",
    "\n",
    "## Preparando o ambiente\n",
    "\n",
    "Instalando a biblioteca *tweepy* para realizar a conexão com o Twitter:"
   ]
  },
  {
   "cell_type": "code",
   "execution_count": null,
   "metadata": {
    "collapsed": true
   },
   "outputs": [],
   "source": [
    "%%capture\n",
    "\n",
    "#Instalando o tweepy\n",
    "!pip install tweepy"
   ]
  },
  {
   "cell_type": "markdown",
   "metadata": {},
   "source": [
    "Importando as Bibliotecas que serão utilizadas. Esteja livre para adicionar outras."
   ]
  },
  {
   "cell_type": "code",
   "execution_count": null,
   "metadata": {
    "collapsed": true
   },
   "outputs": [],
   "source": [
    "import tweepy\n",
    "import math\n",
    "import os.path\n",
    "import pandas as pd\n",
    "import json\n",
    "from random import shuffle"
   ]
  },
  {
   "cell_type": "markdown",
   "metadata": {},
   "source": [
    "___\n",
    "## Autenticando no  Twitter\n",
    "\n",
    "Para realizar a captura dos dados é necessário ter uma conta cadastrada no twitter:\n",
    "\n",
    "* Conta: @pedrominiranda\n",
    "\n",
    "\n",
    "1. Caso ainda não tenha uma: https://twitter.com/signup\n",
    "1. Depois é necessário registrar um app para usar a biblioteca: https://apps.twitter.com/\n",
    "1. Dentro do registro do App, na aba Keys and Access Tokens, anotar os seguintes campos:\n",
    "    1. Consumer Key (API Key)\n",
    "    1. Consumer Secret (API Secret)\n",
    "1. Mais abaixo, gere um Token e anote também:\n",
    "    1. Access Token\n",
    "    1. Access Token Secret\n",
    "    \n",
    "1. Preencha os valores no arquivo \"auth.pass\"\n",
    "\n",
    "**ATENÇÃO**: Nunca divulgue os dados desse arquivo online (GitHub, etc). Ele contém as chaves necessárias para realizar as operações no twitter de forma automática e portanto é equivalente a ser \"hackeado\". De posse desses dados, pessoas mal intencionadas podem fazer todas as operações manuais (tweetar, seguir, bloquear/desbloquear, listar os seguidores, etc). Para efeito do projeto, esse arquivo não precisa ser entregue!!!"
   ]
  },
  {
   "cell_type": "code",
   "execution_count": null,
   "metadata": {
    "collapsed": true
   },
   "outputs": [],
   "source": [
    "#Dados de autenticação do twitter:\n",
    "\n",
    "#Coloque aqui o identificador da conta no twitter: @fulano\n",
    "\n",
    "#leitura do arquivo no formato JSON\n",
    "with open('auth.pass') as fp:    \n",
    "    data = json.load(fp)\n",
    "\n",
    "#Configurando a biblioteca. Não modificar\n",
    "auth = tweepy.OAuthHandler(data['consumer_key'], data['consumer_secret'])\n",
    "auth.set_access_token(data['access_token'], data['access_token_secret'])"
   ]
  },
  {
   "cell_type": "markdown",
   "metadata": {},
   "source": [
    "___\n",
    "## Coletando Dados\n",
    "\n",
    "Agora vamos coletar os dados. Tenha em mente que dependendo do produto escolhido, não haverá uma quantidade significativa de mensagens, ou ainda poder haver muitos retweets.<br /><br /> \n",
    "Configurando:"
   ]
  },
  {
   "cell_type": "code",
   "execution_count": null,
   "metadata": {
    "collapsed": true
   },
   "outputs": [],
   "source": [
    "#Produto escolhido:\n",
    "produto = 'MacBook'\n",
    "\n",
    "#Quantidade mínima de mensagens capturadas:\n",
    "n = 500\n",
    "#Quantidade mínima de mensagens para a base de treinamento:\n",
    "t = 300\n",
    "\n",
    "#Filtro de língua, escolha uma na tabela ISO 639-1.\n",
    "lang = 'pt'"
   ]
  },
  {
   "cell_type": "markdown",
   "metadata": {},
   "source": [
    "Capturando os dados do twitter:"
   ]
  },
  {
   "cell_type": "code",
   "execution_count": null,
   "metadata": {
    "collapsed": true
   },
   "outputs": [],
   "source": [
    "#Cria um objeto para a captura\n",
    "api = tweepy.API(auth)\n",
    "\n",
    "#Inicia a captura, para mais detalhes: ver a documentação do tweepy\n",
    "i = 1\n",
    "msgs = []\n",
    "for msg in tweepy.Cursor(api.search, q=produto, lang=lang).items():    \n",
    "    msgs.append(msg.text.lower())\n",
    "    i += 1\n",
    "    if i > n:\n",
    "        break\n",
    "\n",
    "#Embaralhando as mensagens para reduzir um possível viés\n",
    "shuffle(msgs)"
   ]
  },
  {
   "cell_type": "markdown",
   "metadata": {},
   "source": [
    "Salvando os dados em uma planilha Excel:"
   ]
  },
  {
   "cell_type": "code",
   "execution_count": null,
   "metadata": {
    "collapsed": true
   },
   "outputs": [],
   "source": [
    "#Verifica se o arquivo não existe para não substituir um conjunto pronto\n",
    "if not os.path.isfile('./{0}.xlsx'.format(produto)):\n",
    "    \n",
    "    #Abre o arquivo para escrita\n",
    "    writer = pd.ExcelWriter('{0}.xlsx'.format(produto))\n",
    "\n",
    "    #divide o conjunto de mensagens em duas planilhas\n",
    "    dft = pd.DataFrame({'Treinamento' : pd.Series(msgs[:t])})\n",
    "    dft.to_excel(excel_writer = writer, sheet_name = 'Treinamento', index = False)\n",
    "\n",
    "    dfc = pd.DataFrame({'Teste' : pd.Series(msgs[t:])})\n",
    "    dfc.to_excel(excel_writer = writer, sheet_name = 'Teste', index = False)\n",
    "\n",
    "    #fecha o arquivo\n",
    "    writer.save()"
   ]
  },
  {
   "cell_type": "markdown",
   "metadata": {},
   "source": [
    "___\n",
    "## Classificando as Mensagens\n",
    "\n",
    "Agora você deve abrir o arquivo Excel com as mensagens capturadas e classificar na Coluna B se a mensagem é relevante ou não.<br /> \n",
    "Não se esqueça de colocar um nome para a coluna na célula **B1**.<br /><br />\n",
    "Fazer o mesmo na planilha de Controle.\n",
    "\n",
    "___\n",
    "## Montando o Classificador Naive-Bayes\n",
    "\n",
    "Com a base de treinamento montada, comece a desenvolver o classificador. Escreva o seu código abaixo:\n",
    "\n",
    "Opcionalmente: \n",
    "* Limpar as mensagens removendo os caracteres: enter, :, \", ', (, ), etc. Não remover emojis.<br />\n",
    "* Corrigir separação de espaços entre palavras e/ou emojis.\n",
    "* Propor outras limpezas/transformações que não afetem a qualidade da informação.\n",
    "\n"
   ]
  },
  {
   "cell_type": "code",
   "execution_count": 10,
   "metadata": {
    "collapsed": false
   },
   "outputs": [],
   "source": [
    "#Removendo caracteres indesejados:\n",
    "clean = ['1','2','3','4','5','6','7','8','9','0',' de ',' dos ', ' para ', ' pra ',' que ', ',', '\"','@','?','rt','$', '(', ')','&','[',']', '#','*','%','+','-','_','=','/','\\\\','\\n','  ']\n",
    "\n",
    "#Arquivo que esta lendo o Database do produto:\n",
    "company = pd.read_excel('Macbook.xlsx',sep=',')\n",
    "\n",
    "#Limpando o Database:\n",
    "for carac in clean: company['Treinamento'] = company['Treinamento'].str.replace(carac, ' ')\n",
    "    "
   ]
  },
  {
   "cell_type": "markdown",
   "metadata": {},
   "source": [
    "___\n",
    "## Verificando a performance\n",
    "\n",
    "Agora você deve testar o seu Classificador com a base de Testes.<br /><br /> \n",
    "\n",
    "Você deve extrair as seguintes medidas:\n",
    "* Porcentagem de positivos falsos (marcados como relevante mas não são relevantes)\n",
    "* Porcentagem de positivos verdadeiros (marcado como relevante e são relevantes)\n",
    "* Porcentagem de negativos verdadeiros (marcado como não relevante e não são relevantes)\n",
    "* Porcentagem de negativos falsos (marcado como não relevante e são relevantes)\n",
    "\n",
    "Opcionalmente:\n",
    "* Criar categorias intermediárias de relevância baseado na diferença de probabilidades. Exemplo: muito relevante, relevante, neutro, irrelevante e muito irrelevante."
   ]
  },
  {
   "cell_type": "code",
   "execution_count": 19,
   "metadata": {
    "collapsed": false,
    "scrolled": true
   },
   "outputs": [
    {
     "name": "stdout",
     "output_type": "stream",
     "text": [
      "[3.5494907130017976, 0.04829239065308568, 0.12073097663271419, 0.04829239065308568, 0.12073097663271419, 0.04829239065308568, 0.60365488316357097, 0.04829239065308568, 0.04829239065308568, 0.04829239065308568, 0.04829239065308568, 0.04829239065308568, 0.04829239065308568, 0.14487717195925703, 0.04829239065308568, 0.04829239065308568, 0.04829239065308568, 0.072438585979628517, 0.04829239065308568, 0.04829239065308568, 0.04829239065308568, 0.04829239065308568, 0.04829239065308568, 0.04829239065308568, 0.04829239065308568, 0.072438585979628517, 0.04829239065308568, 0.072438585979628517, 0.04829239065308568, 0.04829239065308568, 0.096584781306171361, 0.12073097663271419, 0.04829239065308568, 0.12073097663271419, 0.04829239065308568, 0.072438585979628517, 0.04829239065308568, 0.16902336728579986, 0.04829239065308568, 0.04829239065308568, 0.04829239065308568, 0.04829239065308568, 0.072438585979628517, 0.04829239065308568, 0.04829239065308568, 0.04829239065308568, 0.12073097663271419, 0.072438585979628517, 0.14487717195925703, 0.04829239065308568, 0.04829239065308568, 0.04829239065308568, 0.096584781306171361, 0.19316956261234272, 0.04829239065308568, 0.04829239065308568, 0.04829239065308568, 0.04829239065308568, 0.04829239065308568, 0.04829239065308568, 0.096584781306171361, 0.04829239065308568, 0.04829239065308568, 0.04829239065308568, 0.04829239065308568, 0.04829239065308568, 0.04829239065308568, 0.04829239065308568, 0.04829239065308568, 0.04829239065308568, 0.04829239065308568, 0.072438585979628517, 0.04829239065308568, 0.04829239065308568, 0.04829239065308568, 0.04829239065308568, 0.04829239065308568, 0.04829239065308568, 0.04829239065308568, 0.04829239065308568, 0.04829239065308568, 0.04829239065308568, 0.04829239065308568, 0.04829239065308568, 0.096584781306171361, 0.04829239065308568, 0.04829239065308568, 0.072438585979628517, 0.04829239065308568, 0.04829239065308568, 0.04829239065308568, 0.04829239065308568, 0.04829239065308568, 0.04829239065308568, 0.04829239065308568, 0.04829239065308568, 0.096584781306171361, 0.04829239065308568, 0.072438585979628517, 0.096584781306171361, 0.04829239065308568, 0.04829239065308568, 0.04829239065308568, 0.04829239065308568, 0.04829239065308568, 0.04829239065308568, 0.04829239065308568, 0.04829239065308568, 0.04829239065308568, 0.04829239065308568, 0.072438585979628517, 0.04829239065308568, 0.04829239065308568, 0.072438585979628517, 0.072438585979628517, 0.04829239065308568, 0.04829239065308568, 0.072438585979628517, 0.072438585979628517, 0.04829239065308568, 0.04829239065308568, 0.04829239065308568, 0.04829239065308568, 0.072438585979628517, 0.04829239065308568, 0.072438585979628517, 0.04829239065308568, 0.04829239065308568, 0.04829239065308568, 0.04829239065308568, 0.04829239065308568, 0.04829239065308568, 0.04829239065308568, 0.04829239065308568, 0.04829239065308568, 0.04829239065308568, 0.04829239065308568, 0.072438585979628517, 0.04829239065308568, 0.04829239065308568, 0.50707010185739965, 0.04829239065308568, 0.04829239065308568, 0.072438585979628517, 0.04829239065308568, 0.12073097663271419, 0.04829239065308568, 0.04829239065308568, 0.16902336728579986, 0.48292390653085676, 0.04829239065308568, 0.096584781306171361, 0.04829239065308568, 0.04829239065308568, 0.04829239065308568, 0.072438585979628517, 0.04829239065308568, 0.04829239065308568, 0.04829239065308568, 0.072438585979628517, 0.04829239065308568, 0.04829239065308568, 0.04829239065308568, 0.04829239065308568, 0.04829239065308568, 0.072438585979628517, 0.04829239065308568, 0.04829239065308568, 0.04829239065308568, 0.04829239065308568, 0.04829239065308568, 0.04829239065308568, 0.04829239065308568, 0.04829239065308568, 0.04829239065308568, 0.072438585979628517, 0.04829239065308568, 0.04829239065308568, 0.04829239065308568, 0.04829239065308568, 0.04829239065308568, 0.04829239065308568, 0.50707010185739965, 0.072438585979628517, 0.04829239065308568, 0.04829239065308568, 0.04829239065308568, 0.072438585979628517, 0.04829239065308568, 0.04829239065308568, 0.072438585979628517, 0.04829239065308568, 0.04829239065308568, 0.04829239065308568, 0.04829239065308568, 0.072438585979628517, 0.04829239065308568, 0.04829239065308568, 0.04829239065308568, 0.04829239065308568, 0.04829239065308568, 0.04829239065308568, 0.04829239065308568, 0.04829239065308568, 0.072438585979628517, 0.04829239065308568, 0.04829239065308568, 0.04829239065308568, 0.04829239065308568, 0.12073097663271419, 0.04829239065308568, 0.072438585979628517, 0.04829239065308568, 0.04829239065308568, 0.04829239065308568, 0.04829239065308568, 0.04829239065308568, 0.04829239065308568, 0.04829239065308568, 0.04829239065308568, 0.77267825044937088, 0.04829239065308568, 0.096584781306171361, 0.04829239065308568, 0.04829239065308568, 0.04829239065308568, 0.04829239065308568, 0.072438585979628517, 0.04829239065308568, 1.1107249850209706, 0.04829239065308568, 0.072438585979628517, 0.072438585979628517, 0.04829239065308568, 0.04829239065308568, 0.04829239065308568, 0.26560814859197124, 0.04829239065308568, 0.04829239065308568, 0.04829239065308568, 0.04829239065308568, 0.04829239065308568, 0.072438585979628517, 0.04829239065308568, 0.04829239065308568, 0.04829239065308568, 0.072438585979628517, 0.04829239065308568, 0.04829239065308568, 0.14487717195925703, 0.14487717195925703, 0.04829239065308568, 0.04829239065308568, 0.04829239065308568, 0.072438585979628517, 0.04829239065308568, 0.096584781306171361, 0.04829239065308568, 0.072438585979628517, 0.072438585979628517, 0.79682444577591371, 0.096584781306171361, 0.04829239065308568, 0.072438585979628517, 0.04829239065308568, 0.04829239065308568, 0.04829239065308568, 0.04829239065308568, 0.072438585979628517, 0.04829239065308568, 0.04829239065308568, 0.096584781306171361, 0.072438585979628517, 0.04829239065308568, 0.04829239065308568, 0.072438585979628517, 0.072438585979628517, 0.04829239065308568, 0.04829239065308568, 0.072438585979628517, 0.04829239065308568, 0.04829239065308568, 0.04829239065308568, 0.04829239065308568, 0.04829239065308568, 0.04829239065308568, 0.04829239065308568, 0.04829239065308568, 0.04829239065308568, 0.04829239065308568, 0.072438585979628517, 0.04829239065308568, 0.04829239065308568, 0.072438585979628517, 0.04829239065308568, 0.04829239065308568, 0.04829239065308568, 0.04829239065308568, 0.04829239065308568, 0.04829239065308568, 0.04829239065308568, 0.072438585979628517, 0.12073097663271419, 0.04829239065308568, 0.04829239065308568, 0.04829239065308568, 0.04829239065308568, 0.04829239065308568, 0.04829239065308568, 0.04829239065308568, 0.04829239065308568, 0.04829239065308568, 0.04829239065308568, 0.04829239065308568, 0.04829239065308568, 0.04829239065308568, 0.04829239065308568, 0.04829239065308568, 0.04829239065308568, 0.04829239065308568, 0.04829239065308568, 0.096584781306171361, 0.04829239065308568, 0.04829239065308568, 0.04829239065308568, 0.04829239065308568, 0.04829239065308568, 0.04829239065308568, 0.072438585979628517, 0.04829239065308568, 0.04829239065308568, 0.04829239065308568, 0.04829239065308568, 0.04829239065308568, 0.072438585979628517, 0.072438585979628517, 0.53121629718394248, 0.04829239065308568, 0.14487717195925703, 0.04829239065308568, 0.04829239065308568, 0.04829239065308568, 0.04829239065308568, 0.04829239065308568, 0.04829239065308568, 0.04829239065308568, 0.04829239065308568, 0.04829239065308568, 0.04829239065308568, 0.04829239065308568, 0.04829239065308568, 0.04829239065308568, 0.04829239065308568, 0.04829239065308568, 0.096584781306171361, 0.21731575793888552, 0.04829239065308568, 0.04829239065308568, 0.04829239065308568, 0.14487717195925703, 0.04829239065308568, 0.04829239065308568, 0.04829239065308568, 0.04829239065308568, 0.072438585979628517, 0.04829239065308568, 0.04829239065308568, 0.096584781306171361, 0.04829239065308568, 0.04829239065308568, 0.072438585979628517, 0.04829239065308568, 0.04829239065308568, 0.04829239065308568, 0.14487717195925703, 0.04829239065308568, 0.072438585979628517, 0.04829239065308568, 0.04829239065308568, 0.04829239065308568, 0.04829239065308568, 0.04829239065308568, 0.04829239065308568, 0.04829239065308568, 0.04829239065308568, 0.04829239065308568, 0.072438585979628517, 0.04829239065308568, 0.04829239065308568, 0.04829239065308568, 0.04829239065308568, 0.04829239065308568, 0.04829239065308568, 0.072438585979628517, 0.04829239065308568, 0.04829239065308568, 0.04829239065308568, 0.04829239065308568, 0.096584781306171361, 0.096584781306171361, 2.7043738765727978, 0.096584781306171361, 0.04829239065308568, 0.04829239065308568, 0.04829239065308568, 0.04829239065308568, 0.04829239065308568, 0.04829239065308568, 0.36219292989814256, 0.04829239065308568, 0.04829239065308568, 0.072438585979628517, 0.04829239065308568, 0.04829239065308568, 0.04829239065308568, 0.04829239065308568, 0.04829239065308568, 0.04829239065308568, 0.072438585979628517, 0.45877771120431393, 0.04829239065308568, 0.26560814859197124, 0.04829239065308568, 0.04829239065308568, 0.04829239065308568, 0.04829239065308568, 0.04829239065308568, 0.072438585979628517, 0.04829239065308568, 0.04829239065308568, 0.04829239065308568, 0.072438585979628517, 0.04829239065308568, 0.16902336728579986, 0.04829239065308568, 0.65194727381665663, 0.04829239065308568, 0.12073097663271419, 0.096584781306171361, 0.04829239065308568, 0.21731575793888552, 0.04829239065308568, 0.04829239065308568, 0.04829239065308568, 0.04829239065308568, 0.04829239065308568, 0.04829239065308568, 0.072438585979628517, 0.072438585979628517, 0.04829239065308568, 0.19316956261234272, 0.072438585979628517, 0.04829239065308568, 0.04829239065308568, 0.04829239065308568, 0.072438585979628517, 0.16902336728579986, 0.24146195326542838, 0.04829239065308568, 0.072438585979628517, 0.16902336728579986, 0.04829239065308568, 0.04829239065308568, 0.04829239065308568, 0.072438585979628517, 0.14487717195925703, 0.04829239065308568, 0.096584781306171361, 0.45877771120431393, 0.04829239065308568, 0.04829239065308568, 0.04829239065308568, 0.12073097663271419, 0.04829239065308568, 0.072438585979628517, 0.14487717195925703, 0.04829239065308568, 0.16902336728579986, 0.04829239065308568, 0.04829239065308568, 0.36219292989814256, 0.072438585979628517, 1.2797483523067705, 0.04829239065308568, 0.04829239065308568, 0.072438585979628517, 0.04829239065308568, 0.04829239065308568, 0.072438585979628517, 0.04829239065308568, 0.04829239065308568, 0.04829239065308568, 0.04829239065308568, 0.12073097663271419, 0.04829239065308568, 0.04829239065308568, 0.04829239065308568, 0.21731575793888552, 0.04829239065308568, 0.096584781306171361, 0.04829239065308568, 0.04829239065308568, 0.14487717195925703, 0.072438585979628517, 0.04829239065308568, 0.04829239065308568, 0.04829239065308568, 0.096584781306171361, 0.12073097663271419, 0.04829239065308568, 0.04829239065308568, 0.04829239065308568, 0.04829239065308568, 0.04829239065308568, 0.04829239065308568, 0.04829239065308568, 0.04829239065308568, 0.04829239065308568, 0.096584781306171361, 0.04829239065308568, 0.04829239065308568, 0.04829239065308568, 0.04829239065308568, 0.04829239065308568, 0.04829239065308568, 0.072438585979628517, 0.04829239065308568, 0.04829239065308568, 0.072438585979628517, 0.04829239065308568, 0.04829239065308568, 0.04829239065308568, 0.04829239065308568, 0.04829239065308568, 0.04829239065308568, 0.096584781306171361, 0.04829239065308568, 0.04829239065308568, 0.04829239065308568, 0.04829239065308568, 0.04829239065308568, 0.04829239065308568, 0.12073097663271419, 0.04829239065308568, 0.04829239065308568, 0.04829239065308568, 0.04829239065308568, 0.04829239065308568, 0.04829239065308568, 0.04829239065308568, 0.36219292989814256, 0.04829239065308568, 0.04829239065308568, 0.072438585979628517, 0.072438585979628517, 0.072438585979628517, 0.04829239065308568, 0.04829239065308568, 0.04829239065308568, 0.04829239065308568, 0.04829239065308568, 0.12073097663271419, 0.04829239065308568, 0.16902336728579986, 0.04829239065308568, 0.04829239065308568, 0.19316956261234272, 0.04829239065308568, 0.072438585979628517, 0.072438585979628517, 0.55536249251048531, 0.072438585979628517, 0.04829239065308568, 0.04829239065308568, 0.04829239065308568, 0.04829239065308568, 0.04829239065308568, 0.33804673457159973, 0.04829239065308568, 0.04829239065308568, 0.04829239065308568, 0.072438585979628517, 0.04829239065308568, 0.04829239065308568, 0.04829239065308568, 0.04829239065308568, 0.096584781306171361, 0.24146195326542838, 0.04829239065308568, 0.14487717195925703, 0.072438585979628517, 0.072438585979628517, 0.04829239065308568, 0.04829239065308568, 0.04829239065308568, 0.072438585979628517, 0.04829239065308568, 0.04829239065308568, 0.04829239065308568, 0.04829239065308568, 0.04829239065308568, 0.04829239065308568, 0.04829239065308568, 0.072438585979628517, 0.04829239065308568, 0.04829239065308568, 0.072438585979628517, 0.072438585979628517, 0.04829239065308568, 0.04829239065308568, 0.04829239065308568, 0.04829239065308568, 0.04829239065308568, 0.072438585979628517, 0.12073097663271419, 0.04829239065308568, 0.04829239065308568, 0.12073097663271419, 0.04829239065308568, 0.14487717195925703, 0.04829239065308568, 0.04829239065308568, 0.04829239065308568, 0.04829239065308568, 0.04829239065308568, 0.12073097663271419, 0.04829239065308568, 0.04829239065308568, 0.04829239065308568, 0.04829239065308568, 0.04829239065308568, 0.096584781306171361, 0.04829239065308568, 0.04829239065308568, 0.072438585979628517, 0.04829239065308568, 0.072438585979628517, 0.072438585979628517, 0.04829239065308568, 0.04829239065308568, 0.04829239065308568, 0.04829239065308568, 0.04829239065308568, 0.04829239065308568, 0.04829239065308568, 0.04829239065308568, 0.072438585979628517, 0.04829239065308568, 0.04829239065308568, 0.04829239065308568, 0.28975434391851407, 0.04829239065308568, 0.04829239065308568, 0.53121629718394248, 0.072438585979628517, 0.04829239065308568, 0.04829239065308568, 0.04829239065308568, 0.096584781306171361, 0.04829239065308568, 0.04829239065308568, 0.04829239065308568, 0.096584781306171361, 0.072438585979628517, 0.26560814859197124, 0.04829239065308568, 0.28975434391851407, 0.24146195326542838, 0.04829239065308568, 0.04829239065308568, 0.04829239065308568, 0.04829239065308568, 0.072438585979628517, 0.04829239065308568, 0.04829239065308568, 0.072438585979628517, 0.04829239065308568, 0.096584781306171361, 0.04829239065308568, 0.04829239065308568, 0.04829239065308568, 0.04829239065308568, 0.04829239065308568, 0.072438585979628517, 0.04829239065308568, 0.072438585979628517, 0.04829239065308568, 0.04829239065308568, 0.04829239065308568, 0.04829239065308568, 0.04829239065308568, 0.072438585979628517, 0.04829239065308568, 0.14487717195925703, 0.04829239065308568, 0.04829239065308568, 0.12073097663271419, 0.04829239065308568, 0.12073097663271419, 0.04829239065308568, 0.12073097663271419, 0.04829239065308568, 0.04829239065308568, 0.04829239065308568, 1.931695626123427, 0.28975434391851407, 0.04829239065308568, 0.04829239065308568, 0.04829239065308568, 0.04829239065308568, 0.096584781306171361, 0.04829239065308568, 0.04829239065308568, 0.072438585979628517, 0.12073097663271419, 0.12073097663271419, 0.04829239065308568, 0.04829239065308568, 0.072438585979628517, 0.04829239065308568, 0.04829239065308568, 0.096584781306171361, 0.04829239065308568, 0.096584781306171361, 0.072438585979628517, 0.04829239065308568, 0.12073097663271419, 0.04829239065308568, 0.04829239065308568, 0.04829239065308568, 0.072438585979628517, 0.096584781306171361, 0.04829239065308568, 0.072438585979628517, 0.096584781306171361, 0.096584781306171361, 0.096584781306171361, 0.04829239065308568, 0.04829239065308568, 0.04829239065308568, 0.04829239065308568, 0.04829239065308568, 0.072438585979628517, 0.04829239065308568, 0.04829239065308568, 0.04829239065308568, 0.04829239065308568, 0.072438585979628517, 0.26560814859197124, 0.04829239065308568, 0.04829239065308568, 0.04829239065308568, 0.04829239065308568, 0.16902336728579986, 0.04829239065308568, 0.04829239065308568, 0.04829239065308568, 0.04829239065308568, 0.04829239065308568, 0.04829239065308568, 0.04829239065308568, 0.04829239065308568, 0.04829239065308568, 0.04829239065308568, 0.096584781306171361, 0.04829239065308568, 0.04829239065308568, 0.6278010784901138, 0.04829239065308568, 0.04829239065308568, 0.04829239065308568, 0.04829239065308568, 0.072438585979628517, 0.072438585979628517, 0.04829239065308568, 0.04829239065308568, 0.04829239065308568]\n"
     ]
    },
    {
     "data": {
      "text/plain": [
       "'\\ntestando = pd.read_excel(\\'Macbook.xlsx\\',sep=\\',\\', sheetname=\"Resultados\")\\ntestando\\n\\nw = 0\\n\\nfor index, row in testando.iterrows():\\n    x = 1\\n    y = 1\\n\\n    tweet = row[\\'Resultados\\']\\n    lista_tweet = tweet.split() \\n    \\n    for i in lista_tweet:\\n        if i in dic_relevante:\\n            x = x * (dic_relevante[i])\\n            \\n        if i in dic_nao_relevante:\\n            y = y * (dic_nao_relevante[i])\\n            \\n    if x>y:\\n        testando.set_value(index, \\'Relevância\\', \\'sim\\')\\n        w = w + 1        \\n        \\n    else:\\n        testando.set_value(index, \\'Relevância\\', \\'não\\')\\n\\n            \\n            \\n#Criando um exel com os resultados:\\nwriter = pd.ExcelWriter(\\'Resultados.xlsx\\', engine=\\'xlsxwriter\\')\\ntestando.to_excel(writer, sheet_name=\\'resultados\\')\\n'"
      ]
     },
     "execution_count": 19,
     "metadata": {},
     "output_type": "execute_result"
    }
   ],
   "source": [
    "a = (company['Relevância'].value_counts(sort=False, normalize=True)*100).round(decimals=1)  \n",
    "\n",
    "\n",
    "probabilidade_relevante = a['sim'] \n",
    "probabilidade_nao_relevante = a['não'] \n",
    "\n",
    "\n",
    "frequencia = company.Treinamento.apply(lambda x: pd.value_counts(x.split(\" \"))).sum(axis = 0) \n",
    "frequencia_relevante = company.Treinamento[company.Relevância == 'sim'].apply(lambda x: pd.value_counts(x.split(\" \"))).sum(axis = 0)\n",
    "frequencia_nao_relevante = company.Treinamento[company.Relevância == 'não'].apply(lambda x: pd.value_counts(x.split(\" \"))).sum(axis = 0) \n",
    "\n",
    "\n",
    "numero = len(frequencia)\n",
    "numero_relevante = frequencia_relevante[0]  \n",
    "numero_nao_relevante = frequencia_nao_relevante[0]  \n",
    "\n",
    "\n",
    "numero_relevante = numero_relevante.item()\n",
    "numero_nao_relevante = numero_nao_relevante.item()\n",
    "\n",
    "\n",
    "numero_relevante = int(numero_relevante)\n",
    "numero_nao_relevante = int(numero_nao_relevante)\n",
    "\n",
    "\n",
    "freq_relevante = pd.DataFrame(frequencia_relevante)\n",
    "freq_nao_relevante = pd.DataFrame(frequencia_nao_relevante)\n",
    "\n",
    "\n",
    "lista_relevante = []  \n",
    "lista_nao_relevante = []\n",
    "\n",
    "\n",
    "for i in range(len(freq_relevante)):\n",
    "    x = (((freq_relevante.iat[i,0])+1)/(numero_relevante+numero))*probabilidade_relevante\n",
    "    lista_relevante.append(x)\n",
    "    \n",
    "for i in range(len(freq_nao_relevante)):\n",
    "    y = (((freq_nao_relevante.iat[i,0])+1)/(numero_nao_relevante+numero))*probabilidade_nao_relevante\n",
    "    lista_nao_relevante.append(y)\n",
    "\n",
    "    \n",
    "lista_palavras_relevantes = freq_relevante.index.tolist() \n",
    "lista_palavras_nao_relevantes = freq_nao_relevante.index.tolist()\n",
    "\n",
    "\n",
    "dic_relevante = {}\n",
    "dic_nao_relevante = {}\n",
    "\n",
    "for i in range(len(freq_relevante)):\n",
    "    dic_relevante[lista_palavras_relevantes[i]] = lista_relevante[i]\n",
    "    \n",
    "for i in range(len(freq_nao_relevante)):\n",
    "    dic_nao_relevante[lista_palavras_nao_relevantes[i]] = lista_nao_relevante[i]\n",
    "\n",
    "\n",
    "testando = pd.read_excel('Macbook.xlsx',sep=',', sheetname=\"Resultados\")\n",
    "testando\n",
    "\n",
    "w = 0\n",
    "\n",
    "for index, row in testando.iterrows():\n",
    "    x = 1\n",
    "    y = 1\n",
    "\n",
    "    tweet = row['Resultados']\n",
    "    lista_tweet = tweet.split() \n",
    "    \n",
    "    for i in lista_tweet:\n",
    "        if i in dic_relevante:\n",
    "            x = x * (dic_relevante[i])\n",
    "            \n",
    "        if i in dic_nao_relevante:\n",
    "            y = y * (dic_nao_relevante[i])\n",
    "            \n",
    "    if x>y:\n",
    "        testando.set_value(index, 'Relevância', 'sim')\n",
    "        w = w + 1        \n",
    "        \n",
    "    else:\n",
    "        testando.set_value(index, 'Relevância', 'não')\n",
    "\n",
    "            \n",
    "            \n",
    "#Criando um exel com os resultados:\n",
    "writer = pd.ExcelWriter('Resultados.xlsx', engine='xlsxwriter')\n",
    "testando.to_excel(writer, sheet_name='resultados')"
   ]
  },
  {
   "cell_type": "markdown",
   "metadata": {
    "collapsed": true
   },
   "source": [
    "___\n",
    "## Concluindo\n",
    "\n",
    "Escreva aqui a sua conclusão.<br /> \n",
    "Faça um comparativo qualitativo sobre as medidas obtidas.<br />\n",
    "Explique como são tratadas as mensagens com dupla negação e sarcasmo.<br />\n",
    "Proponha um plano de expansão. Por que eles devem continuar financiando o seu projeto?<br />\n",
    "\n",
    "Opcionalmente: \n",
    "* Discorrer por que não posso alimentar minha base de Treinamento automaticamente usando o próprio classificador, aplicado a novos tweets.\n",
    "* Propor diferentes cenários de uso para o classificador Naive-Bayes. Cenários sem intersecção com este projeto.\n",
    "* Sugerir e explicar melhorias reais no classificador com indicações concretas de como implementar (não é preciso codificar, mas indicar como fazer e material de pesquisa sobre o assunto).\n"
   ]
  },
  {
   "cell_type": "code",
   "execution_count": null,
   "metadata": {
    "collapsed": true
   },
   "outputs": [],
   "source": []
  }
 ],
 "metadata": {
  "kernelspec": {
   "display_name": "Python 3",
   "language": "python",
   "name": "python3"
  },
  "language_info": {
   "codemirror_mode": {
    "name": "ipython",
    "version": 3
   },
   "file_extension": ".py",
   "mimetype": "text/x-python",
   "name": "python",
   "nbconvert_exporter": "python",
   "pygments_lexer": "ipython3",
   "version": "3.6.0"
  }
 },
 "nbformat": 4,
 "nbformat_minor": 1
}
